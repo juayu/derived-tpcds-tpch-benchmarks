{
 "cells": [
  {
   "cell_type": "markdown",
   "metadata": {},
   "source": [
    "## Redshift elastic resize demo"
   ]
  },
  {
   "cell_type": "markdown",
   "metadata": {},
   "source": [
    "* This demo shows how elastic resize can scale redshift cluster up or down with minimum impact for your workload\n",
    "    - Step 1, use query runner to simulate a continous workload\n",
    "    - Step 2, initiate elastic resize from AWS console, increase cluster size to 2x\n",
    "    - Step 3, start monitoring in notebook\n",
    "    - Step 4, Once resize is done, observe workload continuous, total cluster downtime is only a few minutes\n",
    "    - Step 5, Run the IO-heavy workload (like ETL), observe the performance is better than the original cluster\n",
    "    - Step 6, Show the number of slices is not changed after elastic resize\n"
   ]
  },
  {
   "cell_type": "code",
   "execution_count": 29,
   "metadata": {},
   "outputs": [
    {
     "name": "stdout",
     "output_type": "stream",
     "text": [
      "Thu Aug  1 16:19:49 2019\n"
     ]
    },
    {
     "ename": "ResizeNotFoundFault",
     "evalue": "An error occurred (ResizeNotFound) when calling the DescribeResize operation: No Resize found for Cluster rgs-89adc4b1-rvt4tqch",
     "output_type": "error",
     "traceback": [
      "\u001b[0;31m---------------------------------------------------------------------------\u001b[0m",
      "\u001b[0;31mResizeNotFoundFault\u001b[0m                       Traceback (most recent call last)",
      "\u001b[0;32m<timed exec>\u001b[0m in \u001b[0;36m<module>\u001b[0;34m\u001b[0m\n",
      "\u001b[0;32m~/SageMaker/rgs/miniconda/envs/rgsutils/lib/python3.7/site-packages/botocore/client.py\u001b[0m in \u001b[0;36m_api_call\u001b[0;34m(self, *args, **kwargs)\u001b[0m\n\u001b[1;32m    355\u001b[0m                     \"%s() only accepts keyword arguments.\" % py_operation_name)\n\u001b[1;32m    356\u001b[0m             \u001b[0;31m# The \"self\" in this scope is referring to the BaseClient.\u001b[0m\u001b[0;34m\u001b[0m\u001b[0;34m\u001b[0m\u001b[0;34m\u001b[0m\u001b[0m\n\u001b[0;32m--> 357\u001b[0;31m             \u001b[0;32mreturn\u001b[0m \u001b[0mself\u001b[0m\u001b[0;34m.\u001b[0m\u001b[0m_make_api_call\u001b[0m\u001b[0;34m(\u001b[0m\u001b[0moperation_name\u001b[0m\u001b[0;34m,\u001b[0m \u001b[0mkwargs\u001b[0m\u001b[0;34m)\u001b[0m\u001b[0;34m\u001b[0m\u001b[0;34m\u001b[0m\u001b[0m\n\u001b[0m\u001b[1;32m    358\u001b[0m \u001b[0;34m\u001b[0m\u001b[0m\n\u001b[1;32m    359\u001b[0m         \u001b[0m_api_call\u001b[0m\u001b[0;34m.\u001b[0m\u001b[0m__name__\u001b[0m \u001b[0;34m=\u001b[0m \u001b[0mstr\u001b[0m\u001b[0;34m(\u001b[0m\u001b[0mpy_operation_name\u001b[0m\u001b[0;34m)\u001b[0m\u001b[0;34m\u001b[0m\u001b[0;34m\u001b[0m\u001b[0m\n",
      "\u001b[0;32m~/SageMaker/rgs/miniconda/envs/rgsutils/lib/python3.7/site-packages/botocore/client.py\u001b[0m in \u001b[0;36m_make_api_call\u001b[0;34m(self, operation_name, api_params)\u001b[0m\n\u001b[1;32m    659\u001b[0m             \u001b[0merror_code\u001b[0m \u001b[0;34m=\u001b[0m \u001b[0mparsed_response\u001b[0m\u001b[0;34m.\u001b[0m\u001b[0mget\u001b[0m\u001b[0;34m(\u001b[0m\u001b[0;34m\"Error\"\u001b[0m\u001b[0;34m,\u001b[0m \u001b[0;34m{\u001b[0m\u001b[0;34m}\u001b[0m\u001b[0;34m)\u001b[0m\u001b[0;34m.\u001b[0m\u001b[0mget\u001b[0m\u001b[0;34m(\u001b[0m\u001b[0;34m\"Code\"\u001b[0m\u001b[0;34m)\u001b[0m\u001b[0;34m\u001b[0m\u001b[0;34m\u001b[0m\u001b[0m\n\u001b[1;32m    660\u001b[0m             \u001b[0merror_class\u001b[0m \u001b[0;34m=\u001b[0m \u001b[0mself\u001b[0m\u001b[0;34m.\u001b[0m\u001b[0mexceptions\u001b[0m\u001b[0;34m.\u001b[0m\u001b[0mfrom_code\u001b[0m\u001b[0;34m(\u001b[0m\u001b[0merror_code\u001b[0m\u001b[0;34m)\u001b[0m\u001b[0;34m\u001b[0m\u001b[0;34m\u001b[0m\u001b[0m\n\u001b[0;32m--> 661\u001b[0;31m             \u001b[0;32mraise\u001b[0m \u001b[0merror_class\u001b[0m\u001b[0;34m(\u001b[0m\u001b[0mparsed_response\u001b[0m\u001b[0;34m,\u001b[0m \u001b[0moperation_name\u001b[0m\u001b[0;34m)\u001b[0m\u001b[0;34m\u001b[0m\u001b[0;34m\u001b[0m\u001b[0m\n\u001b[0m\u001b[1;32m    662\u001b[0m         \u001b[0;32melse\u001b[0m\u001b[0;34m:\u001b[0m\u001b[0;34m\u001b[0m\u001b[0;34m\u001b[0m\u001b[0m\n\u001b[1;32m    663\u001b[0m             \u001b[0;32mreturn\u001b[0m \u001b[0mparsed_response\u001b[0m\u001b[0;34m\u001b[0m\u001b[0;34m\u001b[0m\u001b[0m\n",
      "\u001b[0;31mResizeNotFoundFault\u001b[0m: An error occurred (ResizeNotFound) when calling the DescribeResize operation: No Resize found for Cluster rgs-89adc4b1-rvt4tqch"
     ]
    }
   ],
   "source": [
    "%%time\n",
    "import boto3\n",
    "import json\n",
    "import time\n",
    "\n",
    "iamconnectioninfo = IamConnection()\n",
    "cluster_info = iamconnectioninfo.hostname_plus_port.split('.')\n",
    "clusterid = cluster_info[0]\n",
    "region = cluster_info[2]\n",
    "\n",
    "boto3.setup_default_session()\n",
    "client = boto3.client(service_name='redshift', region_name=region)\n",
    "\n",
    "start_time = time.time()\n",
    "print(time.ctime())\n",
    "\n",
    "# Monitor resizing status, check every 30 seconds\n",
    "for i in range(10*60):\n",
    "    response = client.describe_resize(\n",
    "        ClusterIdentifier=clusterid\n",
    "    )\n",
    "    print(response['Status'])\n",
    "    if response['Status'] == 'SUCCEEDED':\n",
    "        print('%s is completed successful at %s.' % (response['ResizeType'], time.ctime()))\n",
    "        print((time.time() - start_time)/60)\n",
    "        break\n",
    "    time.sleep(30)\n"
   ]
  },
  {
   "cell_type": "markdown",
   "metadata": {},
   "source": [
    "Below code shows how to do elastic resize programmatically, so you can create a lambda function and schedule reoccurance, \n",
    "* e.g. sacle up for nightly ETL jobs, and scale down for day job "
   ]
  },
  {
   "cell_type": "code",
   "execution_count": null,
   "metadata": {},
   "outputs": [],
   "source": [
    "# Send resize request. Note\n",
    "# 1.5-2 minutes to size down\n",
    "# but 5-10 minutes to size up\n",
    "boto3.setup_default_session()\n",
    "client = boto3.client(service_name='redshift', region_name=region)\n",
    "\n",
    "response = client.resize_cluster(\n",
    "    ClusterIdentifier=clusterid,\n",
    "    ClusterType='multi-node',\n",
    "    NodeType='dc2.large',\n",
    "    NumberOfNodes=4,\n",
    "    Classic=False\n",
    ")\n",
    "print(response['Cluster']['ClusterStatus'])\n"
   ]
  },
  {
   "cell_type": "code",
   "execution_count": 30,
   "metadata": {},
   "outputs": [
    {
     "name": "stdout",
     "output_type": "stream",
     "text": [
      "rgs-89adc4b1-rvt4tqch.cvm00saj2qsp.us-east-1.redshift.amazonaws.com\n",
      "CPU times: user 48.3 ms, sys: 3.28 ms, total: 51.5 ms\n",
      "Wall time: 137 ms\n"
     ]
    }
   ],
   "source": [
    "%%time\n",
    "import boto3\n",
    "import sh\n",
    "import os\n",
    "\n",
    "stack_name_path = '/home/ec2-user/SageMaker/assets/metadata/stackname.txt'\n",
    "\n",
    "session = boto3.session.Session()\n",
    "client = session.client(\"redshift\")\n",
    "stack_name = open(stack_name_path, 'r').readline().rstrip('\\n')\n",
    "response = client.describe_clusters(TagKeys=['stack_name'],\n",
    "                                    TagValues=[stack_name])\n",
    "print(response['Clusters'][0]['Endpoint']['Address'])\n",
    "#print(response['Clusters'][0])\n"
   ]
  },
  {
   "cell_type": "code",
   "execution_count": null,
   "metadata": {},
   "outputs": [],
   "source": []
  }
 ],
 "metadata": {
  "kernelspec": {
   "display_name": "Python3.7 (rgsutils)",
   "language": "python",
   "name": "rgsutils"
  },
  "language_info": {
   "codemirror_mode": {
    "name": "ipython",
    "version": 3
   },
   "file_extension": ".py",
   "mimetype": "text/x-python",
   "name": "python",
   "nbconvert_exporter": "python",
   "pygments_lexer": "ipython3",
   "version": "3.7.3"
  }
 },
 "nbformat": 4,
 "nbformat_minor": 4
}
